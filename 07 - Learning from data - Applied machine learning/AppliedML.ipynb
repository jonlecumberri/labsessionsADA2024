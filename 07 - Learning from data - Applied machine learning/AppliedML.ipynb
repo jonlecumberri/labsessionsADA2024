{
 "cells": [
  {
   "cell_type": "markdown",
   "metadata": {},
   "source": [
    "## All you need is love… And a pet!\n",
    "\n",
    "<img src=\"img/dataset-cover.jpg\" width=\"920\">\n",
    "\n",
    "Here we are going to build a classifier to predict whether an animal from an animal shelter will be adopted or not (aac_intakes_outcomes.csv, available at: https://www.kaggle.com/aaronschlegel/austin-animal-center-shelter-intakes-and-outcomes/version/1#aac_intakes_outcomes.csv). You will be working with the following features:\n",
    "\n",
    "1. *animal_type:* Type of animal. May be one of 'cat', 'dog', 'bird', etc.\n",
    "2. *intake_year:* Year of intake\n",
    "3. *intake_condition:* The intake condition of the animal. Can be one of 'normal', 'injured', 'sick', etc.\n",
    "4. *intake_number:* The intake number denoting the number of occurrences the animal has been brought into the shelter. Values higher than 1 indicate the animal has been taken into the shelter on more than one occasion.\n",
    "5. *intake_type:* The type of intake, for example, 'stray', 'owner surrender', etc.\n",
    "6. *sex_upon_intake:* The gender of the animal and if it has been spayed or neutered at the time of intake\n",
    "7. *age_upon\\_intake_(years):* The age of the animal upon intake represented in years\n",
    "8. *time_in_shelter_days:* Numeric value denoting the number of days the animal remained at the shelter from intake to outcome.\n",
    "9. *sex_upon_outcome:* The gender of the animal and if it has been spayed or neutered at time of outcome\n",
    "10. *age_upon\\_outcome_(years):* The age of the animal upon outcome represented in years\n",
    "11. *outcome_type:* The outcome type. Can be one of ‘adopted’, ‘transferred’, etc."
   ]
  },
  {
   "cell_type": "code",
   "execution_count": 1,
   "metadata": {},
   "outputs": [],
   "source": [
    "import numpy as np\n",
    "import matplotlib.pyplot as plt\n",
    "import pandas as pd\n",
    "import scipy as sp\n",
    "from itertools import combinations \n",
    "import ast\n",
    "from sklearn.linear_model import LogisticRegression\n",
    "import seaborn as sn\n",
    "%matplotlib inline\n",
    "\n",
    "data_folder = './data/'"
   ]
  },
  {
   "cell_type": "markdown",
   "metadata": {},
   "source": [
    "### A) Load the dataset and convert categorical features to a suitable numerical representation (use dummy-variable encoding). \n",
    "- Split the data into a training set (80%) and a test set (20%). Pair each feature vector with the corresponding label, i.e., whether the outcome_type is adoption or not. \n",
    "- Standardize the values of each feature in the data to have mean 0 and variance 1.\n",
    "\n",
    "The use of external libraries is not permitted in part A, except for numpy and pandas. \n",
    "You can drop entries with missing values."
   ]
  },
  {
   "cell_type": "code",
   "execution_count": 2,
   "metadata": {},
   "outputs": [],
   "source": [
    "columns = ['animal_type', 'intake_year', 'intake_condition', 'intake_number', 'intake_type', 'sex_upon_intake', \\\n",
    "          'age_upon_intake_(years)', 'time_in_shelter_days', 'sex_upon_outcome', 'age_upon_outcome_(years)', \\\n",
    "          'outcome_type']\n",
    "original_data = pd.read_csv(data_folder+'aac_intakes_outcomes.csv', usecols=columns)"
   ]
  },
  {
   "cell_type": "code",
   "execution_count": 3,
   "metadata": {},
   "outputs": [
    {
     "name": "stdout",
     "output_type": "stream",
     "text": [
      "The length of the data with all rows is : 79672\n",
      "The length of the data without the rows with nan value is: 79661\n"
     ]
    }
   ],
   "source": [
    "print('The length of the data with all rows is : {}'.format(len(original_data)))\n",
    "original_data.dropna(inplace=True)\n",
    "print('The length of the data without the rows with nan value is: {}'.format(len(original_data)))"
   ]
  },
  {
   "cell_type": "code",
   "execution_count": 4,
   "metadata": {},
   "outputs": [
    {
     "data": {
      "text/html": [
       "<div>\n",
       "<style scoped>\n",
       "    .dataframe tbody tr th:only-of-type {\n",
       "        vertical-align: middle;\n",
       "    }\n",
       "\n",
       "    .dataframe tbody tr th {\n",
       "        vertical-align: top;\n",
       "    }\n",
       "\n",
       "    .dataframe thead th {\n",
       "        text-align: right;\n",
       "    }\n",
       "</style>\n",
       "<table border=\"1\" class=\"dataframe\">\n",
       "  <thead>\n",
       "    <tr style=\"text-align: right;\">\n",
       "      <th></th>\n",
       "      <th>sex_upon_outcome</th>\n",
       "      <th>age_upon_outcome_(years)</th>\n",
       "      <th>animal_type</th>\n",
       "      <th>intake_condition</th>\n",
       "      <th>intake_type</th>\n",
       "      <th>sex_upon_intake</th>\n",
       "      <th>age_upon_intake_(years)</th>\n",
       "      <th>intake_year</th>\n",
       "      <th>intake_number</th>\n",
       "      <th>time_in_shelter_days</th>\n",
       "      <th>adopted</th>\n",
       "    </tr>\n",
       "  </thead>\n",
       "  <tbody>\n",
       "    <tr>\n",
       "      <th>62535</th>\n",
       "      <td>Neutered Male</td>\n",
       "      <td>3.000000</td>\n",
       "      <td>Dog</td>\n",
       "      <td>Normal</td>\n",
       "      <td>Stray</td>\n",
       "      <td>Neutered Male</td>\n",
       "      <td>3.000000</td>\n",
       "      <td>2017</td>\n",
       "      <td>2.0</td>\n",
       "      <td>7.465972</td>\n",
       "      <td>0</td>\n",
       "    </tr>\n",
       "    <tr>\n",
       "      <th>54637</th>\n",
       "      <td>Intact Female</td>\n",
       "      <td>0.164384</td>\n",
       "      <td>Cat</td>\n",
       "      <td>Nursing</td>\n",
       "      <td>Stray</td>\n",
       "      <td>Intact Female</td>\n",
       "      <td>0.076712</td>\n",
       "      <td>2016</td>\n",
       "      <td>1.0</td>\n",
       "      <td>35.069444</td>\n",
       "      <td>0</td>\n",
       "    </tr>\n",
       "    <tr>\n",
       "      <th>42201</th>\n",
       "      <td>Neutered Male</td>\n",
       "      <td>2.000000</td>\n",
       "      <td>Dog</td>\n",
       "      <td>Normal</td>\n",
       "      <td>Stray</td>\n",
       "      <td>Neutered Male</td>\n",
       "      <td>2.000000</td>\n",
       "      <td>2015</td>\n",
       "      <td>2.0</td>\n",
       "      <td>3.152083</td>\n",
       "      <td>0</td>\n",
       "    </tr>\n",
       "    <tr>\n",
       "      <th>35840</th>\n",
       "      <td>Intact Male</td>\n",
       "      <td>0.005479</td>\n",
       "      <td>Cat</td>\n",
       "      <td>Nursing</td>\n",
       "      <td>Stray</td>\n",
       "      <td>Intact Male</td>\n",
       "      <td>0.005479</td>\n",
       "      <td>2015</td>\n",
       "      <td>1.0</td>\n",
       "      <td>0.443056</td>\n",
       "      <td>0</td>\n",
       "    </tr>\n",
       "    <tr>\n",
       "      <th>64450</th>\n",
       "      <td>Intact Female</td>\n",
       "      <td>2.000000</td>\n",
       "      <td>Dog</td>\n",
       "      <td>Normal</td>\n",
       "      <td>Stray</td>\n",
       "      <td>Intact Female</td>\n",
       "      <td>2.000000</td>\n",
       "      <td>2017</td>\n",
       "      <td>1.0</td>\n",
       "      <td>0.054167</td>\n",
       "      <td>0</td>\n",
       "    </tr>\n",
       "    <tr>\n",
       "      <th>33606</th>\n",
       "      <td>Unknown</td>\n",
       "      <td>0.010959</td>\n",
       "      <td>Cat</td>\n",
       "      <td>Normal</td>\n",
       "      <td>Stray</td>\n",
       "      <td>Unknown</td>\n",
       "      <td>0.010959</td>\n",
       "      <td>2015</td>\n",
       "      <td>1.0</td>\n",
       "      <td>0.024306</td>\n",
       "      <td>0</td>\n",
       "    </tr>\n",
       "    <tr>\n",
       "      <th>78222</th>\n",
       "      <td>Neutered Male</td>\n",
       "      <td>0.739726</td>\n",
       "      <td>Dog</td>\n",
       "      <td>Normal</td>\n",
       "      <td>Stray</td>\n",
       "      <td>Intact Male</td>\n",
       "      <td>0.575342</td>\n",
       "      <td>2018</td>\n",
       "      <td>1.0</td>\n",
       "      <td>39.247917</td>\n",
       "      <td>1</td>\n",
       "    </tr>\n",
       "    <tr>\n",
       "      <th>37034</th>\n",
       "      <td>Neutered Male</td>\n",
       "      <td>0.082192</td>\n",
       "      <td>Dog</td>\n",
       "      <td>Normal</td>\n",
       "      <td>Stray</td>\n",
       "      <td>Intact Male</td>\n",
       "      <td>0.082192</td>\n",
       "      <td>2015</td>\n",
       "      <td>1.0</td>\n",
       "      <td>6.166667</td>\n",
       "      <td>1</td>\n",
       "    </tr>\n",
       "    <tr>\n",
       "      <th>48923</th>\n",
       "      <td>Neutered Male</td>\n",
       "      <td>11.000000</td>\n",
       "      <td>Dog</td>\n",
       "      <td>Normal</td>\n",
       "      <td>Stray</td>\n",
       "      <td>Neutered Male</td>\n",
       "      <td>11.000000</td>\n",
       "      <td>2016</td>\n",
       "      <td>2.0</td>\n",
       "      <td>4.989583</td>\n",
       "      <td>1</td>\n",
       "    </tr>\n",
       "    <tr>\n",
       "      <th>47220</th>\n",
       "      <td>Neutered Male</td>\n",
       "      <td>2.000000</td>\n",
       "      <td>Dog</td>\n",
       "      <td>Normal</td>\n",
       "      <td>Stray</td>\n",
       "      <td>Intact Male</td>\n",
       "      <td>2.000000</td>\n",
       "      <td>2016</td>\n",
       "      <td>1.0</td>\n",
       "      <td>3.963889</td>\n",
       "      <td>1</td>\n",
       "    </tr>\n",
       "  </tbody>\n",
       "</table>\n",
       "</div>"
      ],
      "text/plain": [
       "      sex_upon_outcome  age_upon_outcome_(years) animal_type intake_condition  \\\n",
       "62535    Neutered Male                  3.000000         Dog           Normal   \n",
       "54637    Intact Female                  0.164384         Cat          Nursing   \n",
       "42201    Neutered Male                  2.000000         Dog           Normal   \n",
       "35840      Intact Male                  0.005479         Cat          Nursing   \n",
       "64450    Intact Female                  2.000000         Dog           Normal   \n",
       "33606          Unknown                  0.010959         Cat           Normal   \n",
       "78222    Neutered Male                  0.739726         Dog           Normal   \n",
       "37034    Neutered Male                  0.082192         Dog           Normal   \n",
       "48923    Neutered Male                 11.000000         Dog           Normal   \n",
       "47220    Neutered Male                  2.000000         Dog           Normal   \n",
       "\n",
       "      intake_type sex_upon_intake  age_upon_intake_(years)  intake_year  \\\n",
       "62535       Stray   Neutered Male                 3.000000         2017   \n",
       "54637       Stray   Intact Female                 0.076712         2016   \n",
       "42201       Stray   Neutered Male                 2.000000         2015   \n",
       "35840       Stray     Intact Male                 0.005479         2015   \n",
       "64450       Stray   Intact Female                 2.000000         2017   \n",
       "33606       Stray         Unknown                 0.010959         2015   \n",
       "78222       Stray     Intact Male                 0.575342         2018   \n",
       "37034       Stray     Intact Male                 0.082192         2015   \n",
       "48923       Stray   Neutered Male                11.000000         2016   \n",
       "47220       Stray     Intact Male                 2.000000         2016   \n",
       "\n",
       "       intake_number  time_in_shelter_days  adopted  \n",
       "62535            2.0              7.465972        0  \n",
       "54637            1.0             35.069444        0  \n",
       "42201            2.0              3.152083        0  \n",
       "35840            1.0              0.443056        0  \n",
       "64450            1.0              0.054167        0  \n",
       "33606            1.0              0.024306        0  \n",
       "78222            1.0             39.247917        1  \n",
       "37034            1.0              6.166667        1  \n",
       "48923            2.0              4.989583        1  \n",
       "47220            1.0              3.963889        1  "
      ]
     },
     "execution_count": 4,
     "metadata": {},
     "output_type": "execute_result"
    }
   ],
   "source": [
    "data_features = original_data.copy()\n",
    "data_features['adopted'] = data_features.outcome_type.apply(lambda o: 1 if o =='Adoption' else 0)\n",
    "data_features.drop('outcome_type', axis=1, inplace=True)\n",
    "data_features.sample(10)"
   ]
  },
  {
   "cell_type": "code",
   "execution_count": 5,
   "metadata": {},
   "outputs": [],
   "source": [
    "def split_set(data_to_split, ratio=0.8):\n",
    "    mask = np.random.rand(len(data_to_split)) < ratio\n",
    "    return [data_to_split[mask].reset_index(drop=True), data_to_split[~mask].reset_index(drop=True)]"
   ]
  },
  {
   "cell_type": "code",
   "execution_count": 6,
   "metadata": {},
   "outputs": [],
   "source": [
    "train, test = split_set(data_features)"
   ]
  },
  {
   "cell_type": "code",
   "execution_count": 7,
   "metadata": {},
   "outputs": [
    {
     "name": "stdout",
     "output_type": "stream",
     "text": [
      "Length of the train dataset : 63804\n",
      "Length of the test dataset : 15857\n"
     ]
    }
   ],
   "source": [
    "categorical_columns = ['sex_upon_outcome', 'animal_type', 'intake_condition',\n",
    "                       'intake_type', 'sex_upon_intake']\n",
    "train_categorical = pd.get_dummies(train, columns=categorical_columns)\n",
    "\n",
    "test_categorical = pd.get_dummies(test, columns=categorical_columns)[train_categorical.columns]\n",
    "\n",
    "train_label=train_categorical.adopted\n",
    "train_features = train_categorical.drop('adopted', axis=1)\n",
    "print('Length of the train dataset : {}'.format(len(train)))\n",
    "\n",
    "test_label=test_categorical.adopted\n",
    "test_features = test_categorical.drop('adopted', axis=1)\n",
    "print('Length of the test dataset : {}'.format(len(test)))"
   ]
  },
  {
   "cell_type": "code",
   "execution_count": 8,
   "metadata": {},
   "outputs": [
    {
     "data": {
      "text/html": [
       "<div>\n",
       "<style scoped>\n",
       "    .dataframe tbody tr th:only-of-type {\n",
       "        vertical-align: middle;\n",
       "    }\n",
       "\n",
       "    .dataframe tbody tr th {\n",
       "        vertical-align: top;\n",
       "    }\n",
       "\n",
       "    .dataframe thead th {\n",
       "        text-align: right;\n",
       "    }\n",
       "</style>\n",
       "<table border=\"1\" class=\"dataframe\">\n",
       "  <thead>\n",
       "    <tr style=\"text-align: right;\">\n",
       "      <th></th>\n",
       "      <th>age_upon_outcome_(years)</th>\n",
       "      <th>age_upon_intake_(years)</th>\n",
       "      <th>intake_year</th>\n",
       "      <th>intake_number</th>\n",
       "      <th>time_in_shelter_days</th>\n",
       "      <th>sex_upon_outcome_Intact Female</th>\n",
       "      <th>sex_upon_outcome_Intact Male</th>\n",
       "      <th>sex_upon_outcome_Neutered Male</th>\n",
       "      <th>sex_upon_outcome_Spayed Female</th>\n",
       "      <th>sex_upon_outcome_Unknown</th>\n",
       "      <th>...</th>\n",
       "      <th>intake_type_Euthanasia Request</th>\n",
       "      <th>intake_type_Owner Surrender</th>\n",
       "      <th>intake_type_Public Assist</th>\n",
       "      <th>intake_type_Stray</th>\n",
       "      <th>intake_type_Wildlife</th>\n",
       "      <th>sex_upon_intake_Intact Female</th>\n",
       "      <th>sex_upon_intake_Intact Male</th>\n",
       "      <th>sex_upon_intake_Neutered Male</th>\n",
       "      <th>sex_upon_intake_Spayed Female</th>\n",
       "      <th>sex_upon_intake_Unknown</th>\n",
       "    </tr>\n",
       "  </thead>\n",
       "  <tbody>\n",
       "    <tr>\n",
       "      <th>0</th>\n",
       "      <td>2.712269</td>\n",
       "      <td>2.730904</td>\n",
       "      <td>1.198089</td>\n",
       "      <td>-0.277915</td>\n",
       "      <td>-0.389857</td>\n",
       "      <td>-0.363342</td>\n",
       "      <td>-0.372594</td>\n",
       "      <td>1.345262</td>\n",
       "      <td>-0.685389</td>\n",
       "      <td>-0.306645</td>\n",
       "      <td>...</td>\n",
       "      <td>-0.056635</td>\n",
       "      <td>-0.481980</td>\n",
       "      <td>-0.259515</td>\n",
       "      <td>0.652885</td>\n",
       "      <td>-0.214678</td>\n",
       "      <td>-0.650664</td>\n",
       "      <td>-0.682378</td>\n",
       "      <td>2.290421</td>\n",
       "      <td>-0.401457</td>\n",
       "      <td>-0.306645</td>\n",
       "    </tr>\n",
       "    <tr>\n",
       "      <th>1</th>\n",
       "      <td>1.677084</td>\n",
       "      <td>1.693224</td>\n",
       "      <td>-1.101106</td>\n",
       "      <td>1.928669</td>\n",
       "      <td>-0.373609</td>\n",
       "      <td>-0.363342</td>\n",
       "      <td>-0.372594</td>\n",
       "      <td>1.345262</td>\n",
       "      <td>-0.685389</td>\n",
       "      <td>-0.306645</td>\n",
       "      <td>...</td>\n",
       "      <td>-0.056635</td>\n",
       "      <td>-0.481980</td>\n",
       "      <td>3.853279</td>\n",
       "      <td>-1.531639</td>\n",
       "      <td>-0.214678</td>\n",
       "      <td>-0.650664</td>\n",
       "      <td>-0.682378</td>\n",
       "      <td>2.290421</td>\n",
       "      <td>-0.401457</td>\n",
       "      <td>-0.306645</td>\n",
       "    </tr>\n",
       "    <tr>\n",
       "      <th>2</th>\n",
       "      <td>1.332023</td>\n",
       "      <td>1.347331</td>\n",
       "      <td>-1.101106</td>\n",
       "      <td>4.135254</td>\n",
       "      <td>-0.377137</td>\n",
       "      <td>-0.363342</td>\n",
       "      <td>-0.372594</td>\n",
       "      <td>1.345262</td>\n",
       "      <td>-0.685389</td>\n",
       "      <td>-0.306645</td>\n",
       "      <td>...</td>\n",
       "      <td>-0.056635</td>\n",
       "      <td>-0.481980</td>\n",
       "      <td>3.853279</td>\n",
       "      <td>-1.531639</td>\n",
       "      <td>-0.214678</td>\n",
       "      <td>-0.650664</td>\n",
       "      <td>-0.682378</td>\n",
       "      <td>2.290421</td>\n",
       "      <td>-0.401457</td>\n",
       "      <td>-0.306645</td>\n",
       "    </tr>\n",
       "    <tr>\n",
       "      <th>3</th>\n",
       "      <td>2.712269</td>\n",
       "      <td>2.730904</td>\n",
       "      <td>-1.101106</td>\n",
       "      <td>-0.277915</td>\n",
       "      <td>-0.283833</td>\n",
       "      <td>-0.363342</td>\n",
       "      <td>-0.372594</td>\n",
       "      <td>1.345262</td>\n",
       "      <td>-0.685389</td>\n",
       "      <td>-0.306645</td>\n",
       "      <td>...</td>\n",
       "      <td>-0.056635</td>\n",
       "      <td>2.074742</td>\n",
       "      <td>-0.259515</td>\n",
       "      <td>-1.531639</td>\n",
       "      <td>-0.214678</td>\n",
       "      <td>-0.650664</td>\n",
       "      <td>-0.682378</td>\n",
       "      <td>2.290421</td>\n",
       "      <td>-0.401457</td>\n",
       "      <td>-0.306645</td>\n",
       "    </tr>\n",
       "    <tr>\n",
       "      <th>4</th>\n",
       "      <td>4.437577</td>\n",
       "      <td>4.460371</td>\n",
       "      <td>-1.867504</td>\n",
       "      <td>-0.277915</td>\n",
       "      <td>-0.383018</td>\n",
       "      <td>-0.363342</td>\n",
       "      <td>-0.372594</td>\n",
       "      <td>-0.743338</td>\n",
       "      <td>1.459002</td>\n",
       "      <td>-0.306645</td>\n",
       "      <td>...</td>\n",
       "      <td>-0.056635</td>\n",
       "      <td>-0.481980</td>\n",
       "      <td>-0.259515</td>\n",
       "      <td>0.652885</td>\n",
       "      <td>-0.214678</td>\n",
       "      <td>-0.650664</td>\n",
       "      <td>-0.682378</td>\n",
       "      <td>-0.436594</td>\n",
       "      <td>2.490885</td>\n",
       "      <td>-0.306645</td>\n",
       "    </tr>\n",
       "  </tbody>\n",
       "</table>\n",
       "<p>5 rows × 32 columns</p>\n",
       "</div>"
      ],
      "text/plain": [
       "   age_upon_outcome_(years)  age_upon_intake_(years)  intake_year  \\\n",
       "0                  2.712269                 2.730904     1.198089   \n",
       "1                  1.677084                 1.693224    -1.101106   \n",
       "2                  1.332023                 1.347331    -1.101106   \n",
       "3                  2.712269                 2.730904    -1.101106   \n",
       "4                  4.437577                 4.460371    -1.867504   \n",
       "\n",
       "   intake_number  time_in_shelter_days  sex_upon_outcome_Intact Female  \\\n",
       "0      -0.277915             -0.389857                       -0.363342   \n",
       "1       1.928669             -0.373609                       -0.363342   \n",
       "2       4.135254             -0.377137                       -0.363342   \n",
       "3      -0.277915             -0.283833                       -0.363342   \n",
       "4      -0.277915             -0.383018                       -0.363342   \n",
       "\n",
       "   sex_upon_outcome_Intact Male  sex_upon_outcome_Neutered Male  \\\n",
       "0                     -0.372594                        1.345262   \n",
       "1                     -0.372594                        1.345262   \n",
       "2                     -0.372594                        1.345262   \n",
       "3                     -0.372594                        1.345262   \n",
       "4                     -0.372594                       -0.743338   \n",
       "\n",
       "   sex_upon_outcome_Spayed Female  sex_upon_outcome_Unknown  ...  \\\n",
       "0                       -0.685389                 -0.306645  ...   \n",
       "1                       -0.685389                 -0.306645  ...   \n",
       "2                       -0.685389                 -0.306645  ...   \n",
       "3                       -0.685389                 -0.306645  ...   \n",
       "4                        1.459002                 -0.306645  ...   \n",
       "\n",
       "   intake_type_Euthanasia Request  intake_type_Owner Surrender  \\\n",
       "0                       -0.056635                    -0.481980   \n",
       "1                       -0.056635                    -0.481980   \n",
       "2                       -0.056635                    -0.481980   \n",
       "3                       -0.056635                     2.074742   \n",
       "4                       -0.056635                    -0.481980   \n",
       "\n",
       "   intake_type_Public Assist  intake_type_Stray  intake_type_Wildlife  \\\n",
       "0                  -0.259515           0.652885             -0.214678   \n",
       "1                   3.853279          -1.531639             -0.214678   \n",
       "2                   3.853279          -1.531639             -0.214678   \n",
       "3                  -0.259515          -1.531639             -0.214678   \n",
       "4                  -0.259515           0.652885             -0.214678   \n",
       "\n",
       "   sex_upon_intake_Intact Female  sex_upon_intake_Intact Male  \\\n",
       "0                      -0.650664                    -0.682378   \n",
       "1                      -0.650664                    -0.682378   \n",
       "2                      -0.650664                    -0.682378   \n",
       "3                      -0.650664                    -0.682378   \n",
       "4                      -0.650664                    -0.682378   \n",
       "\n",
       "   sex_upon_intake_Neutered Male  sex_upon_intake_Spayed Female  \\\n",
       "0                       2.290421                      -0.401457   \n",
       "1                       2.290421                      -0.401457   \n",
       "2                       2.290421                      -0.401457   \n",
       "3                       2.290421                      -0.401457   \n",
       "4                      -0.436594                       2.490885   \n",
       "\n",
       "   sex_upon_intake_Unknown  \n",
       "0                -0.306645  \n",
       "1                -0.306645  \n",
       "2                -0.306645  \n",
       "3                -0.306645  \n",
       "4                -0.306645  \n",
       "\n",
       "[5 rows x 32 columns]"
      ]
     },
     "execution_count": 8,
     "metadata": {},
     "output_type": "execute_result"
    }
   ],
   "source": [
    "means = train_features.mean()\n",
    "stddevs = train_features.std()\n",
    "\n",
    "train_features_std = pd.DataFrame()\n",
    "for c in train_features.columns:\n",
    "    train_features_std[c] = (train_features[c]-means[c])/stddevs[c]\n",
    "\n",
    "# Use the mean and stddev of the training set\n",
    "test_features_std = pd.DataFrame()\n",
    "for c in test_features.columns:\n",
    "    test_features_std[c] = (test_features[c]-means[c])/stddevs[c]\n",
    "\n",
    "train_features_std.head()"
   ]
  },
  {
   "cell_type": "markdown",
   "metadata": {},
   "source": [
    "### B) Train a logistic regression classifier on your training set. Logistic regression returns probabilities as predictions, so in order to arrive at a binary prediction, you need to put a threshold on the predicted probabilities. \n",
    "- For the decision threshold of 0.5, present the performance of your classifier on the test set by displaying the confusion matrix. Based on the confusion matrix, manually calculate accuracy, precision, recall, and F1-score with respect to the positive and the negative class. "
   ]
  },
  {
   "cell_type": "code",
   "execution_count": 9,
   "metadata": {
    "collapsed": true,
    "jupyter": {
     "outputs_hidden": true
    }
   },
   "outputs": [],
   "source": [
    "logreg = LogisticRegression(solver='lbfgs', max_iter=10000)\n",
    "\n",
    "model = logreg.fit(train_features_std, train_label)\n",
    "\n",
    "preds = model.predict_proba(test_features_std)"
   ]
  },
  {
   "cell_type": "code",
   "execution_count": 32,
   "metadata": {},
   "outputs": [
    {
     "name": "stdout",
     "output_type": "stream",
     "text": [
      "Accuracy = 0.82\n",
      "PrecisionP = 0.76\n",
      "RecallP = 0.83\n",
      "F1-scoreP= 0.79\n",
      "PrecisionN = 0.87\n",
      "RecallN = 0.82\n",
      "F1-scoreN= 0.84\n"
     ]
    },
    {
     "data": {
      "text/plain": [
       "(    POS   NEG\n",
       " 0  5445  1132\n",
       " 1  1688  7592,\n",
       " np.float64(0.8221605600050451),\n",
       " np.float64(0.7633534277302678),\n",
       " np.float64(0.8278850539759769),\n",
       " np.float64(0.7943107221006563),\n",
       " np.float64(0.8702430077945896),\n",
       " np.float64(0.8181034482758621),\n",
       " np.float64(0.8433681404132415))"
      ]
     },
     "execution_count": 32,
     "metadata": {},
     "output_type": "execute_result"
    },
    {
     "data": {
      "image/png": "[encoded data removed]",
      "text/plain": [
       "<Figure size 640x480 with 2 Axes>"
      ]
     },
     "metadata": {},
     "output_type": "display_data"
    }
   ],
   "source": [
    "def confusion_matrix(test_preds, test_labels, threshold, plot = True, prints = True):\n",
    "    preds = (test_preds[:,1] > threshold).astype(int)\n",
    "    TP = np.sum(np.logical_and(preds==1, test_labels==1))\n",
    "    TN = np.sum(np.logical_and(preds==0, test_labels==0))\n",
    "    FP = np.sum(np.logical_and(preds==1, test_labels==0))\n",
    "    FN = np.sum(np.logical_and(preds==0, test_labels==1))\n",
    "\n",
    "    d = {\"POS\": [TP,FP], \"NEG\": [FN, TN]}\n",
    "    confusion_matrix = pd.DataFrame(d)\n",
    "    if plot:\n",
    "        sn.heatmap(confusion_matrix, annot=True, fmt=\".0f\", cmap=\"crest\")\n",
    "\n",
    "    accuracy = (TP + TN) / (TP + TN  + FP + FN)\n",
    "    precision_pos = TP / (TP + FP) if (TP+FP) !=0 else np.nan\n",
    "    recall_pos = TP / (TP + FN) if (TP+FN) !=0 else np.nan\n",
    "    f1_pos = 2 * precision_pos * recall_pos / (precision_pos + recall_pos)\n",
    "\n",
    "    precision_neg = TN / (TN + FN) if (TN+FN) !=0 else np.nan\n",
    "    recall_neg = TN / (TN + FP) if (TN+FP) !=0 else np.nan\n",
    "    f1_neg = 2 * precision_neg * recall_neg / (precision_neg + recall_neg)\n",
    "\n",
    "    if prints:\n",
    "        print(f\"Accuracy = {accuracy:.2f}\\nPrecisionP = {precision_pos:.2f}\\nRecallP = {recall_pos:.2f}\\nF1-scoreP= {f1_pos:.2f}\")\n",
    "        print(f\"PrecisionN = {precision_neg:.2f}\\nRecallN = {recall_neg:.2f}\\nF1-scoreN= {f1_neg:.2f}\")\n",
    "    return confusion_matrix, accuracy, precision_pos, recall_pos, f1_pos, precision_neg, recall_neg, f1_neg\n",
    "\n",
    "\n",
    "confusion_matrix(preds, test_label, 0.5)"
   ]
  },
  {
   "cell_type": "markdown",
   "metadata": {},
   "source": [
    "### C) Vary the value of the threshold in the range from 0 to 1 and visualize the value of accuracy, precision, recall, and F1-score (with respect to both classes) as a function of the threshold."
   ]
  },
  {
   "cell_type": "code",
   "execution_count": 35,
   "metadata": {
    "collapsed": true,
    "jupyter": {
     "outputs_hidden": true
    }
   },
   "outputs": [],
   "source": [
    "ths = np.linspace(0,1,100)\n",
    "accs = []\n",
    "precsP = []\n",
    "recsP = []\n",
    "f1sP = []\n",
    "precsN = []\n",
    "recsN = []\n",
    "f1sN = []\n",
    "\n",
    "for t in ths:\n",
    "    cm, acc, precP, recP, f1P,precN, recN, f1N = confusion_matrix(preds, test_label, t, plot = False, prints = False)\n",
    "    accs.append(acc)\n",
    "    precsP.append(precP)\n",
    "    recsP.append(recP)\n",
    "    f1sP.append(f1P)\n",
    "    precsN.append(precN)\n",
    "    recsN.append(recN)\n",
    "    f1sN.append(f1N)"
   ]
  },
  {
   "cell_type": "code",
   "execution_count": 40,
   "metadata": {},
   "outputs": [
    {
     "data": {
      "image/png": "[encoded data removed]",
      "text/plain": [
       "<Figure size 640x480 with 1 Axes>"
      ]
     },
     "metadata": {},
     "output_type": "display_data"
    },
    {
     "data": {
      "image/png": "[encoded data removed]",
      "text/plain": [
       "<Figure size 640x480 with 3 Axes>"
      ]
     },
     "metadata": {},
     "output_type": "display_data"
    }
   ],
   "source": [
    "plt.plot(ths, accs)\n",
    "plt.grid()\n",
    "plt.title(\"Accuracies\")\n",
    "plt.show()\n",
    "\n",
    "plt.subplot(131)\n",
    "plt.plot(ths, precsP, label = \"Positive\")\n",
    "plt.plot(ths, precsN, label = \"Negative\")\n",
    "plt.title(\"Precisions\")\n",
    "plt.grid()\n",
    "plt.legend()\n",
    "plt.subplot(132)\n",
    "plt.plot(ths, recsP, label = \"Positive\")\n",
    "plt.plot(ths, recsN, label = \"Negative\")\n",
    "plt.title(\"Recalls\")\n",
    "plt.grid()\n",
    "plt.legend()\n",
    "plt.subplot(133)\n",
    "plt.plot(ths, f1sP, label = \"Positive\")\n",
    "plt.plot(ths, f1sN, label = \"Negative\")\n",
    "plt.title(\"F1-Scores\")\n",
    "plt.grid()\n",
    "plt.legend()\n",
    "plt.show()"
   ]
  },
  {
   "cell_type": "markdown",
   "metadata": {},
   "source": [
    "### D) Plot in a bar chart the coefficients of the logistic regression sorted by their contribution to the prediction."
   ]
  },
  {
   "cell_type": "code",
   "execution_count": null,
   "metadata": {
    "collapsed": true,
    "jupyter": {
     "outputs_hidden": true
    }
   },
   "outputs": [],
   "source": []
  },
  {
   "cell_type": "markdown",
   "metadata": {},
   "source": [
    "\n",
    "## Question 1: Which of the following metrics is most suitable when you are dealing with unbalanced classes?\n",
    "\n",
    "- a) F1 Score\n",
    "- b) Recall\n",
    "- c) Precision\n",
    "- d) Accuracy"
   ]
  },
  {
   "cell_type": "code",
   "execution_count": null,
   "metadata": {
    "collapsed": true,
    "jupyter": {
     "outputs_hidden": true
    }
   },
   "outputs": [],
   "source": []
  },
  {
   "cell_type": "markdown",
   "metadata": {},
   "source": [
    "## Question 2: You are working on a binary classification problem. You trained a model on a training dataset and got the following confusion matrix on the test dataset. What is true about the evaluation metrics (rounded to the second decimal point):\n",
    "\n",
    "|            | Pred = NO|Pred=YES|\n",
    "|------------|----------|--------|\n",
    "| Actual NO  |    50    |   10   |\n",
    "| Actual YES |    5     |   100  |\n",
    "\n",
    "- a) Accuracy is 0.95\n",
    "- b) Accuracy is 0.85\n",
    "- c) False positive rate is 0.95\n",
    "- d) True positive rate is 0.95"
   ]
  },
  {
   "cell_type": "code",
   "execution_count": null,
   "metadata": {
    "collapsed": true,
    "jupyter": {
     "outputs_hidden": true
    }
   },
   "outputs": [],
   "source": []
  }
 ],
 "metadata": {
  "kernelspec": {
   "display_name": "ada",
   "language": "python",
   "name": "python3"
  },
  "language_info": {
   "codemirror_mode": {
    "name": "ipython",
    "version": 3
   },
   "file_extension": ".py",
   "mimetype": "text/x-python",
   "name": "python",
   "nbconvert_exporter": "python",
   "pygments_lexer": "ipython3",
   "version": "3.11.10"
  },
  "varInspector": {
   "cols": {
    "lenName": 16,
    "lenType": 16,
    "lenVar": 40
   },
   "kernels_config": {
    "python": {
     "delete_cmd_postfix": "",
     "delete_cmd_prefix": "del ",
     "library": "var_list.py",
     "varRefreshCmd": "print(var_dic_list())"
    },
    "r": {
     "delete_cmd_postfix": ") ",
     "delete_cmd_prefix": "rm(",
     "library": "var_list.r",
     "varRefreshCmd": "cat(var_dic_list()) "
    }
   },
   "types_to_exclude": [
    "module",
    "function",
    "builtin_function_or_method",
    "instance",
    "_Feature"
   ],
   "window_display": false
  }
 },
 "nbformat": 4,
 "nbformat_minor": 4
}
